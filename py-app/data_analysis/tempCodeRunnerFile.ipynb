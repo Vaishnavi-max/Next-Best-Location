import folium
import pandas as pd
import geopandas
from shapely.geometry import Point