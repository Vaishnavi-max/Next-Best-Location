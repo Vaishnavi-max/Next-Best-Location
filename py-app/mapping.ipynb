{
 "cells": [
  {
   "cell_type": "markdown",
   "id": "2211be75",
   "metadata": {},
   "source": [
    "#### 0. Setup Env"
   ]
  },
  {
   "cell_type": "markdown",
   "id": "8aad9e76",
   "metadata": {},
   "source": [
    "!pip install folium\n",
    "!conda install geopandas\n",
    "!pip install pandas\n",
    "!pip install shapely\n",
    "!pip install streamlit\n",
    "!pip pip install streamlit-folium"
   ]
  },
  {
   "cell_type": "code",
   "execution_count": null,
   "id": "1fbc608a",
   "metadata": {},
   "outputs": [],
   "source": [
    "import folium\n",
    "import pandas as pd\n",
    "import geopandas\n",
    "from shapely.geometry import Point"
   ]
  },
  {
   "cell_type": "markdown",
   "id": "604f9132",
   "metadata": {},
   "source": [
    "#### 1. Map Tiles\n",
    "```\n",
    "‣ OpenStreetMap\n",
    "‣ Mapbox Bright\n",
    "‣ Mapbox Control Room\n",
    "‣ Stamen Terrain\n",
    "‣ Stamen Toner\n",
    "‣ Stamen Watercolor\n",
    "‣ CartoDB positron\n",
    "‣ CartoDB dark_matter\n",
    "```"
   ]
  },
  {
   "cell_type": "code",
   "execution_count": null,
   "id": "9e7f4a6e",
   "metadata": {
    "scrolled": false
   },
   "outputs": [],
   "source": [
    "center = [33.748997, -84.387985]\n",
    "zoom_start=10\n",
    "\n",
    "m_type_1 = \"cartodbdark_matter\"\n",
    "m_type_2 = \"cartodbpositron\"\n",
    "m_type_3 = \"OpenStreetMap\"\n",
    "\n",
    "m = folium.Map(location=center, zoom_start=zoom_start, tiles=m_type_3)\n",
    "m"
   ]
  },
  {
   "cell_type": "markdown",
   "id": "ae084e30",
   "metadata": {},
   "source": [
    "#### 2. Initialize Map"
   ]
  },
  {
   "cell_type": "code",
   "execution_count": null,
   "id": "6b125047",
   "metadata": {
    "scrolled": false
   },
   "outputs": [],
   "source": [
    "def init_map(center=[22.6139, 77.2090], zoom_start=4, map_type=\"OpenStreetMap\"):\n",
    "    return folium.Map(location=center, zoom_start=zoom_start, tiles=map_type)\n",
    "\n",
    "init_map()"
   ]
  },
  {
   "cell_type": "markdown",
   "id": "823a2e5c",
   "metadata": {},
   "source": [
    "#### 3. Image to Link:\n",
    "\n",
    "[Convert png to URL](https://imgbb.com/)<br>\n",
    "[Remove jpg Background](https://www.adobe.com/express/feature/image/remove-background)"
   ]
  },
  {
   "cell_type": "code",
   "execution_count": null,
   "id": "9bf9edd3",
   "metadata": {},
   "outputs": [],
   "source": [
    "def create_point_map(df):\n",
    "    # Cleaning\n",
    "    df[['Latitude', 'Longitude']] = df[['Latitude', 'Longitude']].apply(pd.to_numeric, errors='coerce')\n",
    "    # Convert PandasDataFrame to GeoDataFrame\n",
    "    df['coordinates'] = df[['Latitude', 'Longitude']].values.tolist()\n",
    "    df['coordinates'] = df['coordinates'].apply(Point)\n",
    "    df = geopandas.GeoDataFrame(df, geometry='coordinates')\n",
    "    df = df.dropna(subset=['Latitude', 'Longitude', 'coordinates'])\n",
    "    return df\n",
    "\n",
    "def plot_from_df(df, folium_map):\n",
    "    df = create_point_map(df)\n",
    "    for i, row in df.iterrows():\n",
    "        icon = folium.features.CustomIcon(IM_CONSTANTS[row.Icon_ID], icon_size=(row.Icon_Size, row.Icon_Size))\n",
    "        folium.Marker([row.Latitude, row.Longitude],\n",
    "                      tooltip=f'{row.ID}',\n",
    "                      opacity=row.Opacity,\n",
    "                      icon=icon).add_to(folium_map)\n",
    "    return folium_map\n"
   ]
  },
  {
   "cell_type": "code",
   "execution_count": null,
   "id": "0e8256f8",
   "metadata": {},
   "outputs": [],
   "source": [
    "IM_CONSTANTS = {0:'https://tinyurl.com/5xpxpecw', \n",
    "                1:'https://i.ibb.co/HLyBgJ4/banana.png'}"
   ]
  },
  {
   "cell_type": "code",
   "execution_count": null,
   "id": "cdd76734",
   "metadata": {},
   "outputs": [],
   "source": [
    "def load_df():\n",
    "    data = {'ID': ['Monkey', 'B'],\n",
    "            'Icon_ID': [0, 1],\n",
    "            'Icon_Size': [50, 80],\n",
    "            'Opacity': [1, 1],\n",
    "            'Latitude': [28.5275544,19.082502],\n",
    "            'Longitude': [77.0441742,72.7163741]}\n",
    "    df = pd.DataFrame(data)\n",
    "    return df"
   ]
  },
  {
   "cell_type": "code",
   "execution_count": null,
   "id": "7f30f5b4",
   "metadata": {},
   "outputs": [],
   "source": [
    "df = load_df()\n",
    "df"
   ]
  },
  {
   "cell_type": "code",
   "execution_count": null,
   "id": "55877200",
   "metadata": {},
   "outputs": [],
   "source": [
    "df = load_df()\n",
    "m = init_map()\n",
    "m = plot_from_df(df, m)\n",
    "m"
   ]
  },
  {
   "cell_type": "code",
   "execution_count": null,
   "id": "5be084e4",
   "metadata": {},
   "outputs": [],
   "source": []
  }
 ],
 "metadata": {
  "kernelspec": {
   "display_name": "Python 3 (ipykernel)",
   "language": "python",
   "name": "python3"
  },
  "language_info": {
   "codemirror_mode": {
    "name": "ipython",
    "version": 3
   },
   "file_extension": ".py",
   "mimetype": "text/x-python",
   "name": "python",
   "nbconvert_exporter": "python",
   "pygments_lexer": "ipython3",
   "version": "3.9.13"
  }
 },
 "nbformat": 4,
 "nbformat_minor": 5
}
